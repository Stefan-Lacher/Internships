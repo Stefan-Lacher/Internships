{
  "nbformat": 4,
  "nbformat_minor": 0,
  "metadata": {
    "colab": {
      "name": "Task1.ipynb",
      "provenance": [],
      "collapsed_sections": [],
      "toc_visible": true
    },
    "kernelspec": {
      "name": "python3",
      "display_name": "Python 3"
    },
    "language_info": {
      "name": "python"
    }
  },
  "cells": [
    {
      "cell_type": "markdown",
      "metadata": {
        "id": "tKdhsBGYNvI7"
      },
      "source": [
        "# **Task 1: Prediction using Supervised ML**\n",
        "## **Name: Stefan Lacher**\n",
        "## **Data Science and Business Analytics Internship**\n",
        "\n",
        "\n",
        "Tasks:\n",
        "\n",
        "\n",
        "*   Predict the percentage of an student based on the no. of study hours.\n",
        "*   This is a simple linear regression task as it involves just 2 variables.\n",
        "*   What will be predicted score if a student studies for 9.25 hrs/ day?\n",
        "\n",
        "Language: Python\n",
        "\n",
        "Data: http://bit.ly/w-data "
      ]
    },
    {
      "cell_type": "markdown",
      "metadata": {
        "id": "NKAx6YKlOqeI"
      },
      "source": [
        "# **General steps**"
      ]
    },
    {
      "cell_type": "code",
      "metadata": {
        "id": "0uDm5sSgNi5-"
      },
      "source": [
        "#import important packages\n",
        "import numpy as np\n",
        "import pandas as pd\n",
        "import matplotlib.pyplot as plt\n",
        "%matplotlib inline\n",
        "from sklearn.model_selection import train_test_split \n",
        "from sklearn.linear_model import LinearRegression\n",
        "from sklearn import metrics    "
      ],
      "execution_count": 2,
      "outputs": []
    },
    {
      "cell_type": "code",
      "metadata": {
        "id": "1YQlsYqlPJY6"
      },
      "source": [
        "#Read the Data\n",
        "data_url = \"http://bit.ly/w-data\"\n",
        "data = pd.read_csv(data_url)\n"
      ],
      "execution_count": 3,
      "outputs": []
    },
    {
      "cell_type": "markdown",
      "metadata": {
        "id": "CQsHV3ydQA1A"
      },
      "source": [
        "# **Understand the Data**"
      ]
    },
    {
      "cell_type": "code",
      "metadata": {
        "colab": {
          "base_uri": "https://localhost:8080/",
          "height": 204
        },
        "id": "Sq8sQ-s9QN6m",
        "outputId": "ab421c7c-18c7-4513-ef27-ea6733af4f32"
      },
      "source": [
        "data.head()"
      ],
      "execution_count": 4,
      "outputs": [
        {
          "output_type": "execute_result",
          "data": {
            "text/html": [
              "<div>\n",
              "<style scoped>\n",
              "    .dataframe tbody tr th:only-of-type {\n",
              "        vertical-align: middle;\n",
              "    }\n",
              "\n",
              "    .dataframe tbody tr th {\n",
              "        vertical-align: top;\n",
              "    }\n",
              "\n",
              "    .dataframe thead th {\n",
              "        text-align: right;\n",
              "    }\n",
              "</style>\n",
              "<table border=\"1\" class=\"dataframe\">\n",
              "  <thead>\n",
              "    <tr style=\"text-align: right;\">\n",
              "      <th></th>\n",
              "      <th>Hours</th>\n",
              "      <th>Scores</th>\n",
              "    </tr>\n",
              "  </thead>\n",
              "  <tbody>\n",
              "    <tr>\n",
              "      <th>0</th>\n",
              "      <td>2.5</td>\n",
              "      <td>21</td>\n",
              "    </tr>\n",
              "    <tr>\n",
              "      <th>1</th>\n",
              "      <td>5.1</td>\n",
              "      <td>47</td>\n",
              "    </tr>\n",
              "    <tr>\n",
              "      <th>2</th>\n",
              "      <td>3.2</td>\n",
              "      <td>27</td>\n",
              "    </tr>\n",
              "    <tr>\n",
              "      <th>3</th>\n",
              "      <td>8.5</td>\n",
              "      <td>75</td>\n",
              "    </tr>\n",
              "    <tr>\n",
              "      <th>4</th>\n",
              "      <td>3.5</td>\n",
              "      <td>30</td>\n",
              "    </tr>\n",
              "  </tbody>\n",
              "</table>\n",
              "</div>"
            ],
            "text/plain": [
              "   Hours  Scores\n",
              "0    2.5      21\n",
              "1    5.1      47\n",
              "2    3.2      27\n",
              "3    8.5      75\n",
              "4    3.5      30"
            ]
          },
          "metadata": {
            "tags": []
          },
          "execution_count": 4
        }
      ]
    },
    {
      "cell_type": "markdown",
      "metadata": {
        "id": "URi8c14rQiSf"
      },
      "source": [
        "The first five values of the data can be viewed here."
      ]
    },
    {
      "cell_type": "code",
      "metadata": {
        "colab": {
          "base_uri": "https://localhost:8080/"
        },
        "id": "7npGhw9eP2Gd",
        "outputId": "3b06e53a-f312-4a62-e17c-e26454ada32c"
      },
      "source": [
        "data.info()"
      ],
      "execution_count": 5,
      "outputs": [
        {
          "output_type": "stream",
          "text": [
            "<class 'pandas.core.frame.DataFrame'>\n",
            "RangeIndex: 25 entries, 0 to 24\n",
            "Data columns (total 2 columns):\n",
            " #   Column  Non-Null Count  Dtype  \n",
            "---  ------  --------------  -----  \n",
            " 0   Hours   25 non-null     float64\n",
            " 1   Scores  25 non-null     int64  \n",
            "dtypes: float64(1), int64(1)\n",
            "memory usage: 528.0 bytes\n"
          ],
          "name": "stdout"
        }
      ]
    },
    {
      "cell_type": "markdown",
      "metadata": {
        "id": "QkViws0CQkuj"
      },
      "source": [
        "We have two columns \"Hours\" and \"Scores\" and 25 entries."
      ]
    },
    {
      "cell_type": "code",
      "metadata": {
        "colab": {
          "base_uri": "https://localhost:8080/",
          "height": 297
        },
        "id": "5L_Tl3czP47x",
        "outputId": "5885303b-e7e5-458e-bbe9-50320496d159"
      },
      "source": [
        "data.describe()"
      ],
      "execution_count": 6,
      "outputs": [
        {
          "output_type": "execute_result",
          "data": {
            "text/html": [
              "<div>\n",
              "<style scoped>\n",
              "    .dataframe tbody tr th:only-of-type {\n",
              "        vertical-align: middle;\n",
              "    }\n",
              "\n",
              "    .dataframe tbody tr th {\n",
              "        vertical-align: top;\n",
              "    }\n",
              "\n",
              "    .dataframe thead th {\n",
              "        text-align: right;\n",
              "    }\n",
              "</style>\n",
              "<table border=\"1\" class=\"dataframe\">\n",
              "  <thead>\n",
              "    <tr style=\"text-align: right;\">\n",
              "      <th></th>\n",
              "      <th>Hours</th>\n",
              "      <th>Scores</th>\n",
              "    </tr>\n",
              "  </thead>\n",
              "  <tbody>\n",
              "    <tr>\n",
              "      <th>count</th>\n",
              "      <td>25.000000</td>\n",
              "      <td>25.000000</td>\n",
              "    </tr>\n",
              "    <tr>\n",
              "      <th>mean</th>\n",
              "      <td>5.012000</td>\n",
              "      <td>51.480000</td>\n",
              "    </tr>\n",
              "    <tr>\n",
              "      <th>std</th>\n",
              "      <td>2.525094</td>\n",
              "      <td>25.286887</td>\n",
              "    </tr>\n",
              "    <tr>\n",
              "      <th>min</th>\n",
              "      <td>1.100000</td>\n",
              "      <td>17.000000</td>\n",
              "    </tr>\n",
              "    <tr>\n",
              "      <th>25%</th>\n",
              "      <td>2.700000</td>\n",
              "      <td>30.000000</td>\n",
              "    </tr>\n",
              "    <tr>\n",
              "      <th>50%</th>\n",
              "      <td>4.800000</td>\n",
              "      <td>47.000000</td>\n",
              "    </tr>\n",
              "    <tr>\n",
              "      <th>75%</th>\n",
              "      <td>7.400000</td>\n",
              "      <td>75.000000</td>\n",
              "    </tr>\n",
              "    <tr>\n",
              "      <th>max</th>\n",
              "      <td>9.200000</td>\n",
              "      <td>95.000000</td>\n",
              "    </tr>\n",
              "  </tbody>\n",
              "</table>\n",
              "</div>"
            ],
            "text/plain": [
              "           Hours     Scores\n",
              "count  25.000000  25.000000\n",
              "mean    5.012000  51.480000\n",
              "std     2.525094  25.286887\n",
              "min     1.100000  17.000000\n",
              "25%     2.700000  30.000000\n",
              "50%     4.800000  47.000000\n",
              "75%     7.400000  75.000000\n",
              "max     9.200000  95.000000"
            ]
          },
          "metadata": {
            "tags": []
          },
          "execution_count": 6
        }
      ]
    },
    {
      "cell_type": "markdown",
      "metadata": {
        "id": "Vkcx0eWxQ3bv"
      },
      "source": [
        "As seen before, there are 25 entries each. An average of 5 hours are learned. The highest number of learning hours is over 9 hours."
      ]
    },
    {
      "cell_type": "code",
      "metadata": {
        "colab": {
          "base_uri": "https://localhost:8080/",
          "height": 295
        },
        "id": "0Ahr_cEdRPTa",
        "outputId": "75c0fa3c-3dcd-408d-82a7-bce2c94b8bcc"
      },
      "source": [
        "data.plot(x='Hours',y='Scores',style='o',)\n",
        "plt.title(\"HOURS and SCORES\")\n",
        "plt.xlabel(\"Hours Studied\")\n",
        "plt.ylabel(\"Score Obtained\")\n",
        "plt.show()"
      ],
      "execution_count": 7,
      "outputs": [
        {
          "output_type": "display_data",
          "data": {
            "image/png": "[encoded data removed]",
            "text/plain": [
              "<Figure size 432x288 with 1 Axes>"
            ]
          },
          "metadata": {
            "tags": [],
            "needs_background": "light"
          }
        }
      ]
    },
    {
      "cell_type": "markdown",
      "metadata": {
        "id": "r-ytb9pIRrmn"
      },
      "source": [
        "Here a positive linearity can be recognized. The more hours of study, the higher the score. "
      ]
    },
    {
      "cell_type": "markdown",
      "metadata": {
        "id": "nWkiTpX8PsnZ"
      },
      "source": [
        "# **Data Cleaning**"
      ]
    },
    {
      "cell_type": "code",
      "metadata": {
        "colab": {
          "base_uri": "https://localhost:8080/"
        },
        "id": "XPZOQPO4SHKL",
        "outputId": "21514ca9-21fe-4041-e85c-3f7e160cb322"
      },
      "source": [
        "data.isnull().sum()"
      ],
      "execution_count": 8,
      "outputs": [
        {
          "output_type": "execute_result",
          "data": {
            "text/plain": [
              "Hours     0\n",
              "Scores    0\n",
              "dtype: int64"
            ]
          },
          "metadata": {
            "tags": []
          },
          "execution_count": 8
        }
      ]
    },
    {
      "cell_type": "markdown",
      "metadata": {
        "id": "Id3q6b6LSRb3"
      },
      "source": [
        "Since no NULL values are recognized here, you can continue."
      ]
    },
    {
      "cell_type": "markdown",
      "metadata": {
        "id": "kVo1dwQaSgvS"
      },
      "source": [
        "# **Data Preparation**"
      ]
    },
    {
      "cell_type": "code",
      "metadata": {
        "id": "tboYDDwASqXW"
      },
      "source": [
        "X = data.iloc[:, :-1].values  \n",
        "y = data.iloc[:, 1].values  "
      ],
      "execution_count": 9,
      "outputs": []
    },
    {
      "cell_type": "markdown",
      "metadata": {
        "id": "L__bYksBTGZq"
      },
      "source": [
        "In this step the columns were separated into X hours and y scores. In the next step, the data is divided into test and train."
      ]
    },
    {
      "cell_type": "code",
      "metadata": {
        "id": "zXAI6Aphqy-1"
      },
      "source": [
        "X_train, X_test, y_train, y_test= train_test_split(X,y, test_size=0.2, random_state=0)"
      ],
      "execution_count": 10,
      "outputs": []
    },
    {
      "cell_type": "markdown",
      "metadata": {
        "id": "qhoHPLB6rGYY"
      },
      "source": [
        "# **Training**"
      ]
    },
    {
      "cell_type": "code",
      "metadata": {
        "colab": {
          "base_uri": "https://localhost:8080/"
        },
        "id": "kz7X7UgYrMWV",
        "outputId": "49f4a1f2-4c5e-4729-f80f-89cf9426d2c4"
      },
      "source": [
        "#train the model\n",
        "regressor= LinearRegression()\n",
        "regressor.fit(X_train, y_train)"
      ],
      "execution_count": 16,
      "outputs": [
        {
          "output_type": "execute_result",
          "data": {
            "text/plain": [
              "LinearRegression(copy_X=True, fit_intercept=True, n_jobs=None, normalize=False)"
            ]
          },
          "metadata": {
            "tags": []
          },
          "execution_count": 16
        }
      ]
    },
    {
      "cell_type": "code",
      "metadata": {
        "colab": {
          "base_uri": "https://localhost:8080/",
          "height": 295
        },
        "id": "onDItkmKrjgc",
        "outputId": "dbfc6e9e-4d5c-43a3-9735-162b895b56ae"
      },
      "source": [
        "#Plotting the Original Data vs Linear Model\n",
        "y_line=(regressor.coef_)*X + (regressor.intercept_)\n",
        "plt.scatter(X,y)\n",
        "plt.plot(X,y_line)\n",
        "plt.xlabel(\"Hours Studied\")\n",
        "plt.ylabel(\"Score Obtained\")\n",
        "plt.title(\"Original plot vs Linear Model\")\n",
        "plt.show()"
      ],
      "execution_count": 17,
      "outputs": [
        {
          "output_type": "display_data",
          "data": {
            "image/png": "[encoded data removed]",
            "text/plain": [
              "<Figure size 432x288 with 1 Axes>"
            ]
          },
          "metadata": {
            "tags": [],
            "needs_background": "light"
          }
        }
      ]
    },
    {
      "cell_type": "markdown",
      "metadata": {
        "id": "rFyMn63KsCTd"
      },
      "source": [
        "# **Predictions**"
      ]
    },
    {
      "cell_type": "code",
      "metadata": {
        "id": "ZNGQuZulr-jo"
      },
      "source": [
        "#Predicting the scores\n",
        "y_pred = regressor.predict(X_test)\n"
      ],
      "execution_count": 20,
      "outputs": []
    },
    {
      "cell_type": "code",
      "metadata": {
        "colab": {
          "base_uri": "https://localhost:8080/"
        },
        "id": "ms9w3uDts9ym",
        "outputId": "8e615422-caa9-4cac-d19b-36962969c352"
      },
      "source": [
        "#Compare the actual vs predicted Data\n",
        "df = pd.DataFrame({'Hours': X_test.reshape(1,-1)[0], 'Actual': y_test, 'Predicted': y_pred})\n",
        "print(df)"
      ],
      "execution_count": 23,
      "outputs": [
        {
          "output_type": "stream",
          "text": [
            "   Hours  Actual  Predicted\n",
            "0    1.5      20  16.884145\n",
            "1    3.2      27  33.732261\n",
            "2    7.4      69  75.357018\n",
            "3    2.5      30  26.794801\n",
            "4    5.9      62  60.491033\n"
          ],
          "name": "stdout"
        }
      ]
    },
    {
      "cell_type": "markdown",
      "metadata": {
        "id": "14sH-2kptrmU"
      },
      "source": [
        "# **Evaluation**"
      ]
    },
    {
      "cell_type": "code",
      "metadata": {
        "colab": {
          "base_uri": "https://localhost:8080/"
        },
        "id": "ytpHjDrCtwy4",
        "outputId": "60a7fea0-e658-493c-a136-b91e41196016"
      },
      "source": [
        "metrics.mean_absolute_error(y_test, y_pred)"
      ],
      "execution_count": 24,
      "outputs": [
        {
          "output_type": "execute_result",
          "data": {
            "text/plain": [
              "4.183859899002982"
            ]
          },
          "metadata": {
            "tags": []
          },
          "execution_count": 24
        }
      ]
    },
    {
      "cell_type": "markdown",
      "metadata": {
        "id": "jn6OkXTHuKnA"
      },
      "source": [
        "The performance is tested here. In this case, the mean absolute error is around 4.2."
      ]
    },
    {
      "cell_type": "code",
      "metadata": {
        "colab": {
          "base_uri": "https://localhost:8080/"
        },
        "id": "XZPmqcNDuX6A",
        "outputId": "5bcf7731-45ff-4e2d-d989-67a7b46f909d"
      },
      "source": [
        "regressor.score(X_test, y_test)"
      ],
      "execution_count": 26,
      "outputs": [
        {
          "output_type": "execute_result",
          "data": {
            "text/plain": [
              "0.9454906892105354"
            ]
          },
          "metadata": {
            "tags": []
          },
          "execution_count": 26
        }
      ]
    },
    {
      "cell_type": "markdown",
      "metadata": {
        "id": "nu9ukB-gufxf"
      },
      "source": [
        "The Accuracy of the model ist arround 95 percent. "
      ]
    },
    {
      "cell_type": "markdown",
      "metadata": {
        "id": "ughJ4sGcupLt"
      },
      "source": [
        "# **Study time prediction**"
      ]
    },
    {
      "cell_type": "code",
      "metadata": {
        "colab": {
          "base_uri": "https://localhost:8080/"
        },
        "id": "_Jaz9hNyvGoW",
        "outputId": "9e06ac4a-4ac8-4000-a3d1-62e25c57de60"
      },
      "source": [
        "Studytime = 9.25\n",
        "Studytime_prediction = regressor.predict([[Studytime]])\n",
        "\n",
        "print(\"Number of Hours = {}\".format(Studytime))\n",
        "print(\"Predicted Score =\", Studytime_prediction[0])\n"
      ],
      "execution_count": 40,
      "outputs": [
        {
          "output_type": "stream",
          "text": [
            "Number of Hours = 9.25\n",
            "Predicted Score = 93.69173248737539\n"
          ],
          "name": "stdout"
        }
      ]
    },
    {
      "cell_type": "markdown",
      "metadata": {
        "id": "Rwy12OsNwYQD"
      },
      "source": [
        "Thus it can be said that if 9.25 hours are learned per day, a score of around 94 percent is expected."
      ]
    }
  ]
}